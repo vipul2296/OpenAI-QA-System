{
 "cells": [
  {
   "cell_type": "code",
   "execution_count": 17,
   "metadata": {
    "colab": {
     "base_uri": "https://localhost:8080/"
    },
    "id": "iDBQYs_1MIQK",
    "outputId": "9f783e1f-7892-4792-bb18-5b3b38b8973e"
   },
   "outputs": [
    {
     "name": "stdout",
     "output_type": "stream",
     "text": [
      "Looking in indexes: https://pypi.org/simple, https://us-python.pkg.dev/colab-wheels/public/simple/\n",
      "Collecting tiktoken\n",
      "  Downloading tiktoken-0.4.0-cp310-cp310-manylinux_2_17_x86_64.manylinux2014_x86_64.whl (1.7 MB)\n",
      "\u001b[2K     \u001b[90m━━━━━━━━━━━━━━━━━━━━━━━━━━━━━━━━━━━━━━━━\u001b[0m \u001b[32m1.7/1.7 MB\u001b[0m \u001b[31m28.5 MB/s\u001b[0m eta \u001b[36m0:00:00\u001b[0m\n",
      "\u001b[?25hRequirement already satisfied: regex>=2022.1.18 in /usr/local/lib/python3.10/dist-packages (from tiktoken) (2022.10.31)\n",
      "Requirement already satisfied: requests>=2.26.0 in /usr/local/lib/python3.10/dist-packages (from tiktoken) (2.27.1)\n",
      "Requirement already satisfied: urllib3<1.27,>=1.21.1 in /usr/local/lib/python3.10/dist-packages (from requests>=2.26.0->tiktoken) (1.26.15)\n",
      "Requirement already satisfied: certifi>=2017.4.17 in /usr/local/lib/python3.10/dist-packages (from requests>=2.26.0->tiktoken) (2022.12.7)\n",
      "Requirement already satisfied: charset-normalizer~=2.0.0 in /usr/local/lib/python3.10/dist-packages (from requests>=2.26.0->tiktoken) (2.0.12)\n",
      "Requirement already satisfied: idna<4,>=2.5 in /usr/local/lib/python3.10/dist-packages (from requests>=2.26.0->tiktoken) (3.4)\n",
      "Installing collected packages: tiktoken\n",
      "Successfully installed tiktoken-0.4.0\n"
     ]
    }
   ],
   "source": [
    "# !pip install langchain\n",
    "# !pip install faiss-cpu\n",
    "# !pip install pypdf\n",
    "# !pip install openai\n",
    "# !pip install tiktoken"
   ]
  },
  {
   "cell_type": "code",
   "execution_count": 5,
   "metadata": {
    "id": "yO4M5NdcFzmv"
   },
   "outputs": [],
   "source": [
    "import langchain\n",
    "import pandas as pd"
   ]
  },
  {
   "cell_type": "code",
   "execution_count": 6,
   "metadata": {
    "colab": {
     "base_uri": "https://localhost:8080/"
    },
    "id": "jPcz7-wXMIuu",
    "outputId": "06154d64-c89b-48be-8c9f-3ac4673db9b5"
   },
   "outputs": [
    {
     "name": "stdout",
     "output_type": "stream",
     "text": [
      "OpenAI API Key:··········\n"
     ]
    }
   ],
   "source": [
    "import os\n",
    "import getpass\n",
    "\n",
    "os.environ['OPENAI_API_KEY'] = getpass.getpass('OpenAI API Key:')"
   ]
  },
  {
   "cell_type": "code",
   "execution_count": 7,
   "metadata": {
    "id": "BYRuG6OgMMjc"
   },
   "outputs": [],
   "source": [
    "from langchain.embeddings.openai import OpenAIEmbeddings\n",
    "from langchain.text_splitter import CharacterTextSplitter\n",
    "from langchain.vectorstores import FAISS\n",
    "from langchain.document_loaders import TextLoader"
   ]
  },
  {
   "cell_type": "code",
   "execution_count": 15,
   "metadata": {
    "id": "LTwzEr8rMM9E"
   },
   "outputs": [],
   "source": [
    "from langchain.document_loaders import TextLoader,PyPDFLoader\n",
    "\n",
    "filepath = '/content/202045001.pdf'\n",
    "filename = filepath.split(\"/\")[-1]\n",
    "loader = PyPDFLoader(filename)\n",
    "documents = loader.load()\n",
    "text_splitter = CharacterTextSplitter(chunk_size=1000, chunk_overlap=0)\n",
    "docs = text_splitter.split_documents(documents)\n",
    "embeddings = OpenAIEmbeddings()\n",
    "db = FAISS.from_documents(docs, embeddings)\n",
    "db.save_local(filename)\n"
   ]
  },
  {
   "cell_type": "code",
   "execution_count": 18,
   "metadata": {
    "id": "XHdJZs11MPrN"
   },
   "outputs": [],
   "source": [
    "db = FAISS.from_documents(docs, embeddings)\n",
    "query = \"What is the location of the employer Wide World Importers ?\"\n",
    "docs = db.similarity_search(query)"
   ]
  },
  {
   "cell_type": "code",
   "execution_count": 29,
   "metadata": {
    "id": "MmLDdGdWMUfk"
   },
   "outputs": [],
   "source": [
    "# docs_and_scores = db.similarity_search_with_score(query)\n",
    "# docs_and_scores"
   ]
  },
  {
   "cell_type": "code",
   "execution_count": 23,
   "metadata": {
    "colab": {
     "base_uri": "https://localhost:8080/"
    },
    "id": "GSgSK4z4MU9-",
    "outputId": "fb719b13-82b5-4ba8-d38a-10523f2d1efd"
   },
   "outputs": [
    {
     "data": {
      "text/plain": [
       "[Document(page_content=\"CaseId: 202045001\\nEmployer: Wide World Importers\\nLocation: Miami \\nEvent Date: 1/1/2015\\nEvent: Caught in or compressed by equipment or objects, unspeciﬁed \\nNature: multiple injuries\\nFinal Narrative Hospitalized AmputationPart Of\\nBodySource\\nAn employee's leg was pinned between a truck and\\nthe powered pallet jack being operated. The\\nemployee was hospitalized for treatment/surgery at\\nNavicent Health.1 0 legs pallet jack-\\npowered\\nPage 1 of 1\", metadata={'source': '/content/202045001.pdf', 'page': 0})]"
      ]
     },
     "execution_count": 23,
     "metadata": {},
     "output_type": "execute_result"
    }
   ],
   "source": [
    "embedding_vector = embeddings.embed_query(query)\n",
    "docs_and_scores = db.similarity_search_by_vector(embedding_vector)\n",
    "docs_and_scores"
   ]
  },
  {
   "cell_type": "code",
   "execution_count": 24,
   "metadata": {
    "id": "7AahKpsNMYb5"
   },
   "outputs": [],
   "source": [
    "db.save_local(\"faiss_index\")"
   ]
  },
  {
   "cell_type": "code",
   "execution_count": 26,
   "metadata": {
    "id": "CJh6H95QMaY3"
   },
   "outputs": [],
   "source": [
    "new_db = FAISS.load_local(\"faiss_index\", embeddings)"
   ]
  },
  {
   "cell_type": "code",
   "execution_count": 27,
   "metadata": {
    "id": "7eTjuEN0Ma9r"
   },
   "outputs": [],
   "source": [
    "docs = new_db.similarity_search(query)"
   ]
  },
  {
   "cell_type": "code",
   "execution_count": 31,
   "metadata": {
    "colab": {
     "base_uri": "https://localhost:8080/",
     "height": 70
    },
    "id": "G0EJFjPGReGL",
    "outputId": "1444300b-e646-4303-aef1-10032b58269c"
   },
   "outputs": [
    {
     "data": {
      "application/vnd.google.colaboratory.intrinsic+json": {
       "type": "string"
      },
      "text/plain": [
       "\"CaseId: 202045001\\nEmployer: Wide World Importers\\nLocation: Miami \\nEvent Date: 1/1/2015\\nEvent: Caught in or compressed by equipment or objects, unspeciﬁed \\nNature: multiple injuries\\nFinal Narrative Hospitalized AmputationPart Of\\nBodySource\\nAn employee's leg was pinned between a truck and\\nthe powered pallet jack being operated. The\\nemployee was hospitalized for treatment/surgery at\\nNavicent Health.1 0 legs pallet jack-\\npowered\\nPage 1 of 1\""
      ]
     },
     "execution_count": 31,
     "metadata": {},
     "output_type": "execute_result"
    }
   ],
   "source": [
    "docs[0].page_content"
   ]
  },
  {
   "cell_type": "code",
   "execution_count": null,
   "metadata": {
    "id": "wIJBxBdhOm99"
   },
   "outputs": [],
   "source": [
    "import openai\n",
    "from datetime import datetime\n",
    "openai.api_key = os.environ['OPENAI_API_KEY']  # Replace with your API key\n",
    "\n",
    "def ask_gpt3(content,question):\n",
    "\n",
    "    prompt = f\"Please answer the following question based on the information provided below. If the answer is not found in the content, please reply with 'don't know'.\\n\\n{content}\\n\\nQuestion: {question}\"\n",
    "    response = openai.Completion.create(\n",
    "        engine=\"davinci\",\n",
    "        prompt=prompt,\n",
    "        max_tokens=250,\n",
    "        n=1,\n",
    "        stop=None,\n",
    "        temperature=0.5\n",
    "    )\n",
    "\n",
    "    answer = response.choices[0].text.strip()\n",
    "    return answer\n",
    "t1 = datetime.now()\n",
    "answer = ask_gpt3(docs[0].page_content,query)\n",
    "answer = answer.split(\"\\n\")[0]\n",
    "answer = answer.replace(\"Answer:\",\"\").strip()\n",
    "t2 = datetime.now()\n",
    "print(answer,answer.split(\"\\n\")[0],t2-t1)"
   ]
  },
  {
   "cell_type": "code",
   "execution_count": null,
   "metadata": {
    "id": "IaJhqBIRRkJ2"
   },
   "outputs": [],
   "source": []
  }
 ],
 "metadata": {
  "colab": {
   "provenance": []
  },
  "kernelspec": {
   "display_name": "Python 3 (ipykernel)",
   "language": "python",
   "name": "python3"
  },
  "language_info": {
   "codemirror_mode": {
    "name": "ipython",
    "version": 3
   },
   "file_extension": ".py",
   "mimetype": "text/x-python",
   "name": "python",
   "nbconvert_exporter": "python",
   "pygments_lexer": "ipython3",
   "version": "3.9.12"
  }
 },
 "nbformat": 4,
 "nbformat_minor": 1
}
